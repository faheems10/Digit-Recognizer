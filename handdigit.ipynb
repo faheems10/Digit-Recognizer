{
 "cells": [
  {
   "cell_type": "markdown",
   "id": "35461eb5",
   "metadata": {
    "papermill": {
     "duration": 0.045899,
     "end_time": "2022-04-09T20:08:02.133907",
     "exception": false,
     "start_time": "2022-04-09T20:08:02.088008",
     "status": "completed"
    },
    "tags": []
   },
   "source": [
    "# Deep Learning Background"
   ]
  },
  {
   "cell_type": "markdown",
   "id": "cf3a2e56",
   "metadata": {
    "papermill": {
     "duration": 0.045122,
     "end_time": "2022-04-09T20:08:02.224083",
     "exception": false,
     "start_time": "2022-04-09T20:08:02.178961",
     "status": "completed"
    },
    "tags": []
   },
   "source": [
    "# Hand-Written Digits Classifier"
   ]
  },
  {
   "cell_type": "markdown",
   "id": "0eda0be3",
   "metadata": {
    "papermill": {
     "duration": 0.044173,
     "end_time": "2022-04-09T20:08:02.312388",
     "exception": false,
     "start_time": "2022-04-09T20:08:02.268215",
     "status": "completed"
    },
    "tags": []
   },
   "source": [
    " Since sigmoid is being used as activation function, the output is between 0 and 1"
   ]
  },
  {
   "cell_type": "markdown",
   "id": "12ea418f",
   "metadata": {
    "papermill": {
     "duration": 0.043628,
     "end_time": "2022-04-09T20:08:02.399035",
     "exception": false,
     "start_time": "2022-04-09T20:08:02.355407",
     "status": "completed"
    },
    "tags": []
   },
   "source": [
    "## How do we supply the picture of 4 into the neural network"
   ]
  },
  {
   "cell_type": "markdown",
   "id": "7d5451af",
   "metadata": {
    "papermill": {
     "duration": 0.046319,
     "end_time": "2022-04-09T20:08:02.487931",
     "exception": false,
     "start_time": "2022-04-09T20:08:02.441612",
     "status": "completed"
    },
    "tags": []
   },
   "source": [
    "- Essentially, each image is a 2-d matrix with each pixel representing a value between 0 & 255\n",
    "- Then, we can flatten the array from 2-d to 1-d to supply 7 x 7 matrix as x0-x49 to determine outputs"
   ]
  },
  {
   "cell_type": "markdown",
   "id": "7040efb3",
   "metadata": {
    "papermill": {
     "duration": 0.043793,
     "end_time": "2022-04-09T20:08:02.577465",
     "exception": false,
     "start_time": "2022-04-09T20:08:02.533672",
     "status": "completed"
    },
    "tags": []
   },
   "source": [
    "## Code for creating Neural Network to classify hand digits"
   ]
  },
  {
   "cell_type": "code",
   "execution_count": 1,
   "id": "0d3107b4",
   "metadata": {
    "execution": {
     "iopub.execute_input": "2022-04-09T20:08:02.677325Z",
     "iopub.status.busy": "2022-04-09T20:08:02.675620Z",
     "iopub.status.idle": "2022-04-09T20:08:02.681903Z",
     "shell.execute_reply": "2022-04-09T20:08:02.682617Z",
     "shell.execute_reply.started": "2022-04-09T19:57:56.597719Z"
    },
    "papermill": {
     "duration": 0.060144,
     "end_time": "2022-04-09T20:08:02.682933",
     "exception": false,
     "start_time": "2022-04-09T20:08:02.622789",
     "status": "completed"
    },
    "tags": []
   },
   "outputs": [],
   "source": [
    "# pip install tensorflow"
   ]
  },
  {
   "cell_type": "markdown",
   "id": "456581a5",
   "metadata": {
    "papermill": {
     "duration": 0.043013,
     "end_time": "2022-04-09T20:08:02.777194",
     "exception": false,
     "start_time": "2022-04-09T20:08:02.734181",
     "status": "completed"
    },
    "tags": []
   },
   "source": [
    "## Import the packages"
   ]
  },
  {
   "cell_type": "code",
   "execution_count": 2,
   "id": "6db7d69f",
   "metadata": {
    "execution": {
     "iopub.execute_input": "2022-04-09T20:08:02.875810Z",
     "iopub.status.busy": "2022-04-09T20:08:02.874782Z",
     "iopub.status.idle": "2022-04-09T20:08:07.436949Z",
     "shell.execute_reply": "2022-04-09T20:08:07.436380Z",
     "shell.execute_reply.started": "2022-04-09T19:57:56.680931Z"
    },
    "papermill": {
     "duration": 4.615825,
     "end_time": "2022-04-09T20:08:07.437084",
     "exception": false,
     "start_time": "2022-04-09T20:08:02.821259",
     "status": "completed"
    },
    "tags": []
   },
   "outputs": [],
   "source": [
    "import tensorflow as tf\n",
    "from tensorflow import keras\n",
    "import pandas as pd\n",
    "import numpy as np\n",
    "import matplotlib.pyplot as plt\n",
    "%matplotlib inline"
   ]
  },
  {
   "cell_type": "markdown",
   "id": "ef7ac0d1",
   "metadata": {
    "papermill": {
     "duration": 0.043595,
     "end_time": "2022-04-09T20:08:07.525338",
     "exception": false,
     "start_time": "2022-04-09T20:08:07.481743",
     "status": "completed"
    },
    "tags": []
   },
   "source": [
    "## Import the train and testing data"
   ]
  },
  {
   "cell_type": "code",
   "execution_count": 3,
   "id": "7f0f347f",
   "metadata": {
    "execution": {
     "iopub.execute_input": "2022-04-09T20:08:07.617564Z",
     "iopub.status.busy": "2022-04-09T20:08:07.616946Z",
     "iopub.status.idle": "2022-04-09T20:08:13.294206Z",
     "shell.execute_reply": "2022-04-09T20:08:13.294705Z",
     "shell.execute_reply.started": "2022-04-09T19:57:56.783274Z"
    },
    "papermill": {
     "duration": 5.725561,
     "end_time": "2022-04-09T20:08:13.294864",
     "exception": false,
     "start_time": "2022-04-09T20:08:07.569303",
     "status": "completed"
    },
    "tags": []
   },
   "outputs": [],
   "source": [
    "train_digits = pd.read_csv('/kaggle/input/digit-recognizer/train.csv')\n",
    "test_digits = pd.read_csv('/kaggle/input/digit-recognizer/test.csv')"
   ]
  },
  {
   "cell_type": "code",
   "execution_count": 4,
   "id": "8324e87f",
   "metadata": {
    "execution": {
     "iopub.execute_input": "2022-04-09T20:08:13.503547Z",
     "iopub.status.busy": "2022-04-09T20:08:13.502857Z",
     "iopub.status.idle": "2022-04-09T20:08:13.504935Z",
     "shell.execute_reply": "2022-04-09T20:08:13.504348Z",
     "shell.execute_reply.started": "2022-04-09T19:58:01.556957Z"
    },
    "papermill": {
     "duration": 0.162136,
     "end_time": "2022-04-09T20:08:13.505076",
     "exception": false,
     "start_time": "2022-04-09T20:08:13.342940",
     "status": "completed"
    },
    "tags": []
   },
   "outputs": [],
   "source": [
    "X_train = train_digits.drop(columns=[\"label\"])\n",
    "y_train = train_digits[\"label\"]"
   ]
  },
  {
   "cell_type": "code",
   "execution_count": 5,
   "id": "ea8a9e88",
   "metadata": {
    "execution": {
     "iopub.execute_input": "2022-04-09T20:08:13.596456Z",
     "iopub.status.busy": "2022-04-09T20:08:13.595680Z",
     "iopub.status.idle": "2022-04-09T20:08:13.828593Z",
     "shell.execute_reply": "2022-04-09T20:08:13.827945Z",
     "shell.execute_reply.started": "2022-04-09T19:58:01.671349Z"
    },
    "papermill": {
     "duration": 0.279851,
     "end_time": "2022-04-09T20:08:13.828731",
     "exception": false,
     "start_time": "2022-04-09T20:08:13.548880",
     "status": "completed"
    },
    "tags": []
   },
   "outputs": [],
   "source": [
    "test_digits[\"Image-Id\"] = [i+1 for i in range(28000)]\n",
    "X_test = test_digits.drop(columns=[\"Image-Id\"])"
   ]
  },
  {
   "cell_type": "markdown",
   "id": "56efbcc5",
   "metadata": {
    "papermill": {
     "duration": 0.048166,
     "end_time": "2022-04-09T20:08:13.925642",
     "exception": false,
     "start_time": "2022-04-09T20:08:13.877476",
     "status": "completed"
    },
    "tags": []
   },
   "source": [
    "Shape of the training set"
   ]
  },
  {
   "cell_type": "code",
   "execution_count": 6,
   "id": "c495c36c",
   "metadata": {
    "execution": {
     "iopub.execute_input": "2022-04-09T20:08:14.021296Z",
     "iopub.status.busy": "2022-04-09T20:08:14.020459Z",
     "iopub.status.idle": "2022-04-09T20:08:14.024504Z",
     "shell.execute_reply": "2022-04-09T20:08:14.024990Z",
     "shell.execute_reply.started": "2022-04-09T19:58:01.909138Z"
    },
    "papermill": {
     "duration": 0.055312,
     "end_time": "2022-04-09T20:08:14.025157",
     "exception": false,
     "start_time": "2022-04-09T20:08:13.969845",
     "status": "completed"
    },
    "tags": []
   },
   "outputs": [
    {
     "data": {
      "text/plain": [
       "(42000, 784)"
      ]
     },
     "execution_count": 6,
     "metadata": {},
     "output_type": "execute_result"
    }
   ],
   "source": [
    "X_train.shape"
   ]
  },
  {
   "cell_type": "markdown",
   "id": "03c794b5",
   "metadata": {
    "papermill": {
     "duration": 0.044849,
     "end_time": "2022-04-09T20:08:14.116120",
     "exception": false,
     "start_time": "2022-04-09T20:08:14.071271",
     "status": "completed"
    },
    "tags": []
   },
   "source": [
    "Shape of test set"
   ]
  },
  {
   "cell_type": "code",
   "execution_count": 7,
   "id": "8312c122",
   "metadata": {
    "execution": {
     "iopub.execute_input": "2022-04-09T20:08:14.207998Z",
     "iopub.status.busy": "2022-04-09T20:08:14.207117Z",
     "iopub.status.idle": "2022-04-09T20:08:14.210335Z",
     "shell.execute_reply": "2022-04-09T20:08:14.210778Z",
     "shell.execute_reply.started": "2022-04-09T19:58:01.918689Z"
    },
    "papermill": {
     "duration": 0.051134,
     "end_time": "2022-04-09T20:08:14.210941",
     "exception": false,
     "start_time": "2022-04-09T20:08:14.159807",
     "status": "completed"
    },
    "tags": []
   },
   "outputs": [
    {
     "data": {
      "text/plain": [
       "(28000, 784)"
      ]
     },
     "execution_count": 7,
     "metadata": {},
     "output_type": "execute_result"
    }
   ],
   "source": [
    "X_test.shape"
   ]
  },
  {
   "cell_type": "markdown",
   "id": "0a3c4ac6",
   "metadata": {
    "papermill": {
     "duration": 0.043926,
     "end_time": "2022-04-09T20:08:14.299473",
     "exception": false,
     "start_time": "2022-04-09T20:08:14.255547",
     "status": "completed"
    },
    "tags": []
   },
   "source": [
    "Check the 10th image in matplotlib"
   ]
  },
  {
   "cell_type": "markdown",
   "id": "040eb284",
   "metadata": {
    "papermill": {
     "duration": 0.044743,
     "end_time": "2022-04-09T20:08:14.389196",
     "exception": false,
     "start_time": "2022-04-09T20:08:14.344453",
     "status": "completed"
    },
    "tags": []
   },
   "source": [
    "## Convert train and test to array"
   ]
  },
  {
   "cell_type": "code",
   "execution_count": 8,
   "id": "16f784a6",
   "metadata": {
    "execution": {
     "iopub.execute_input": "2022-04-09T20:08:14.482255Z",
     "iopub.status.busy": "2022-04-09T20:08:14.481661Z",
     "iopub.status.idle": "2022-04-09T20:08:14.652201Z",
     "shell.execute_reply": "2022-04-09T20:08:14.652742Z",
     "shell.execute_reply.started": "2022-04-09T19:58:01.931147Z"
    },
    "papermill": {
     "duration": 0.219442,
     "end_time": "2022-04-09T20:08:14.652930",
     "exception": false,
     "start_time": "2022-04-09T20:08:14.433488",
     "status": "completed"
    },
    "tags": []
   },
   "outputs": [],
   "source": [
    "X_train = np.array(X_train)\n",
    "X_test = np.array(X_test)\n",
    "y_train = np.array(y_train)"
   ]
  },
  {
   "cell_type": "markdown",
   "id": "4f115db1",
   "metadata": {
    "papermill": {
     "duration": 0.04461,
     "end_time": "2022-04-09T20:08:14.741956",
     "exception": false,
     "start_time": "2022-04-09T20:08:14.697346",
     "status": "completed"
    },
    "tags": []
   },
   "source": [
    "## Sample plot of image"
   ]
  },
  {
   "cell_type": "code",
   "execution_count": 9,
   "id": "0fd7f7a8",
   "metadata": {
    "execution": {
     "iopub.execute_input": "2022-04-09T20:08:14.838969Z",
     "iopub.status.busy": "2022-04-09T20:08:14.832588Z",
     "iopub.status.idle": "2022-04-09T20:08:15.043740Z",
     "shell.execute_reply": "2022-04-09T20:08:15.043163Z",
     "shell.execute_reply.started": "2022-04-09T19:58:02.120133Z"
    },
    "papermill": {
     "duration": 0.258479,
     "end_time": "2022-04-09T20:08:15.043890",
     "exception": false,
     "start_time": "2022-04-09T20:08:14.785411",
     "status": "completed"
    },
    "tags": []
   },
   "outputs": [
    {
     "data": {
      "text/plain": [
       "6"
      ]
     },
     "execution_count": 9,
     "metadata": {},
     "output_type": "execute_result"
    },
    {
     "data": {
      "image/png": "[encoded data removed]",
      "text/plain": [
       "<Figure size 432x288 with 1 Axes>"
      ]
     },
     "metadata": {
      "needs_background": "light"
     },
     "output_type": "display_data"
    }
   ],
   "source": [
    "plt.imshow(X_train[45].reshape((28,28)),cmap = \"gray\")\n",
    "y_train[45]"
   ]
  },
  {
   "cell_type": "markdown",
   "id": "4e02fd09",
   "metadata": {
    "papermill": {
     "duration": 0.045996,
     "end_time": "2022-04-09T20:08:15.134604",
     "exception": false,
     "start_time": "2022-04-09T20:08:15.088608",
     "status": "completed"
    },
    "tags": []
   },
   "source": [
    "Confirm that the label is correct"
   ]
  },
  {
   "cell_type": "markdown",
   "id": "dc96a3b3",
   "metadata": {
    "papermill": {
     "duration": 0.044364,
     "end_time": "2022-04-09T20:08:15.224469",
     "exception": false,
     "start_time": "2022-04-09T20:08:15.180105",
     "status": "completed"
    },
    "tags": []
   },
   "source": [
    "## Scale the training data"
   ]
  },
  {
   "cell_type": "code",
   "execution_count": 10,
   "id": "e94fd473",
   "metadata": {
    "execution": {
     "iopub.execute_input": "2022-04-09T20:08:15.317681Z",
     "iopub.status.busy": "2022-04-09T20:08:15.317064Z",
     "iopub.status.idle": "2022-04-09T20:08:15.493847Z",
     "shell.execute_reply": "2022-04-09T20:08:15.493304Z",
     "shell.execute_reply.started": "2022-04-09T19:58:02.330667Z"
    },
    "papermill": {
     "duration": 0.22503,
     "end_time": "2022-04-09T20:08:15.493983",
     "exception": false,
     "start_time": "2022-04-09T20:08:15.268953",
     "status": "completed"
    },
    "tags": []
   },
   "outputs": [],
   "source": [
    "X_train = X_train/255;\n",
    "X_test = X_test/255;"
   ]
  },
  {
   "cell_type": "markdown",
   "id": "96837abf",
   "metadata": {
    "papermill": {
     "duration": 0.043861,
     "end_time": "2022-04-09T20:08:15.582634",
     "exception": false,
     "start_time": "2022-04-09T20:08:15.538773",
     "status": "completed"
    },
    "tags": []
   },
   "source": [
    "## Reshape the data into 1-d"
   ]
  },
  {
   "cell_type": "code",
   "execution_count": 11,
   "id": "2ab6fcb1",
   "metadata": {
    "execution": {
     "iopub.execute_input": "2022-04-09T20:08:15.675797Z",
     "iopub.status.busy": "2022-04-09T20:08:15.675262Z",
     "iopub.status.idle": "2022-04-09T20:08:15.678095Z",
     "shell.execute_reply": "2022-04-09T20:08:15.678650Z",
     "shell.execute_reply.started": "2022-04-09T19:58:02.521165Z"
    },
    "papermill": {
     "duration": 0.050855,
     "end_time": "2022-04-09T20:08:15.678786",
     "exception": false,
     "start_time": "2022-04-09T20:08:15.627931",
     "status": "completed"
    },
    "tags": []
   },
   "outputs": [],
   "source": [
    "X_train_flattened = X_train.reshape(len(X_train),28*28)"
   ]
  },
  {
   "cell_type": "code",
   "execution_count": 12,
   "id": "08828633",
   "metadata": {
    "execution": {
     "iopub.execute_input": "2022-04-09T20:08:15.770489Z",
     "iopub.status.busy": "2022-04-09T20:08:15.769938Z",
     "iopub.status.idle": "2022-04-09T20:08:15.772960Z",
     "shell.execute_reply": "2022-04-09T20:08:15.773494Z",
     "shell.execute_reply.started": "2022-04-09T19:58:02.530537Z"
    },
    "papermill": {
     "duration": 0.050329,
     "end_time": "2022-04-09T20:08:15.773644",
     "exception": false,
     "start_time": "2022-04-09T20:08:15.723315",
     "status": "completed"
    },
    "tags": []
   },
   "outputs": [],
   "source": [
    "X_test_flattened = X_test.reshape(len(X_test),28*28)"
   ]
  },
  {
   "cell_type": "code",
   "execution_count": 13,
   "id": "01a71b91",
   "metadata": {
    "execution": {
     "iopub.execute_input": "2022-04-09T20:08:15.867703Z",
     "iopub.status.busy": "2022-04-09T20:08:15.867085Z",
     "iopub.status.idle": "2022-04-09T20:08:15.871348Z",
     "shell.execute_reply": "2022-04-09T20:08:15.871851Z",
     "shell.execute_reply.started": "2022-04-09T19:58:02.542474Z"
    },
    "papermill": {
     "duration": 0.053092,
     "end_time": "2022-04-09T20:08:15.871995",
     "exception": false,
     "start_time": "2022-04-09T20:08:15.818903",
     "status": "completed"
    },
    "tags": []
   },
   "outputs": [
    {
     "data": {
      "text/plain": [
       "(28000, 784)"
      ]
     },
     "execution_count": 13,
     "metadata": {},
     "output_type": "execute_result"
    }
   ],
   "source": [
    "X_test_flattened.shape"
   ]
  },
  {
   "cell_type": "code",
   "execution_count": 14,
   "id": "db47ea5e",
   "metadata": {
    "execution": {
     "iopub.execute_input": "2022-04-09T20:08:15.965169Z",
     "iopub.status.busy": "2022-04-09T20:08:15.964601Z",
     "iopub.status.idle": "2022-04-09T20:08:16.136251Z",
     "shell.execute_reply": "2022-04-09T20:08:16.136671Z",
     "shell.execute_reply.started": "2022-04-09T19:58:02.556806Z"
    },
    "papermill": {
     "duration": 0.220103,
     "end_time": "2022-04-09T20:08:16.136828",
     "exception": false,
     "start_time": "2022-04-09T20:08:15.916725",
     "status": "completed"
    },
    "tags": []
   },
   "outputs": [
    {
     "data": {
      "text/plain": [
       "array([0.        , 0.        , 0.        , 0.        , 0.        ,\n",
       "       0.        , 0.        , 0.        , 0.        , 0.        ,\n",
       "       0.        , 0.        , 0.        , 0.        , 0.        ,\n",
       "       0.        , 0.        , 0.        , 0.        , 0.        ,\n",
       "       0.        , 0.        , 0.        , 0.        , 0.        ,\n",
       "       0.        , 0.        , 0.        , 0.        , 0.        ,\n",
       "       0.        , 0.        , 0.        , 0.        , 0.        ,\n",
       "       0.        , 0.        , 0.        , 0.        , 0.        ,\n",
       "       0.        , 0.        , 0.        , 0.        , 0.        ,\n",
       "       0.        , 0.        , 0.        , 0.        , 0.        ,\n",
       "       0.        , 0.        , 0.        , 0.        , 0.        ,\n",
       "       0.        , 0.        , 0.        , 0.        , 0.        ,\n",
       "       0.        , 0.        , 0.        , 0.        , 0.        ,\n",
       "       0.        , 0.        , 0.        , 0.        , 0.        ,\n",
       "       0.        , 0.        , 0.        , 0.        , 0.        ,\n",
       "       0.        , 0.        , 0.        , 0.        , 0.        ,\n",
       "       0.        , 0.        , 0.        , 0.        , 0.        ,\n",
       "       0.        , 0.        , 0.        , 0.        , 0.        ,\n",
       "       0.        , 0.        , 0.        , 0.        , 0.        ,\n",
       "       0.        , 0.        , 0.        , 0.        , 0.        ,\n",
       "       0.        , 0.        , 0.        , 0.        , 0.        ,\n",
       "       0.        , 0.        , 0.        , 0.        , 0.        ,\n",
       "       0.        , 0.        , 0.        , 0.        , 0.        ,\n",
       "       0.        , 0.        , 0.        , 0.        , 0.        ,\n",
       "       0.        , 0.        , 0.03921569, 0.06666667, 0.06666667,\n",
       "       0.06666667, 0.06666667, 0.31764706, 0.70588235, 0.70588235,\n",
       "       0.1372549 , 0.        , 0.        , 0.        , 0.        ,\n",
       "       0.        , 0.        , 0.        , 0.        , 0.        ,\n",
       "       0.        , 0.        , 0.        , 0.        , 0.        ,\n",
       "       0.        , 0.        , 0.        , 0.        , 0.        ,\n",
       "       0.54509804, 0.99215686, 0.99215686, 0.99215686, 0.99215686,\n",
       "       0.99215686, 0.99215686, 0.99215686, 0.18823529, 0.        ,\n",
       "       0.        , 0.        , 0.        , 0.        , 0.        ,\n",
       "       0.        , 0.        , 0.        , 0.        , 0.        ,\n",
       "       0.        , 0.        , 0.        , 0.        , 0.        ,\n",
       "       0.        , 0.        , 0.23529412, 0.89411765, 0.99215686,\n",
       "       0.99215686, 0.99215686, 0.99215686, 0.99215686, 0.99215686,\n",
       "       0.99215686, 0.81176471, 0.77254902, 0.18039216, 0.        ,\n",
       "       0.        , 0.        , 0.        , 0.        , 0.        ,\n",
       "       0.        , 0.        , 0.        , 0.        , 0.        ,\n",
       "       0.        , 0.        , 0.        , 0.        , 0.        ,\n",
       "       0.83529412, 0.99215686, 0.99215686, 0.99215686, 0.99215686,\n",
       "       0.99215686, 0.99215686, 0.99215686, 0.99215686, 0.99215686,\n",
       "       0.99215686, 0.8745098 , 0.20392157, 0.        , 0.        ,\n",
       "       0.        , 0.        , 0.        , 0.        , 0.        ,\n",
       "       0.        , 0.        , 0.        , 0.        , 0.        ,\n",
       "       0.        , 0.        , 0.        , 0.25882353, 0.90588235,\n",
       "       0.99215686, 0.99215686, 0.99215686, 0.42352941, 0.15686275,\n",
       "       0.15686275, 0.45098039, 0.95686275, 0.99215686, 0.99215686,\n",
       "       0.5254902 , 0.01176471, 0.        , 0.        , 0.        ,\n",
       "       0.        , 0.        , 0.        , 0.        , 0.        ,\n",
       "       0.        , 0.        , 0.        , 0.        , 0.        ,\n",
       "       0.        , 0.        , 0.24705882, 0.44705882, 0.44705882,\n",
       "       0.44705882, 0.14509804, 0.        , 0.        , 0.        ,\n",
       "       0.80392157, 0.99215686, 0.99215686, 0.99215686, 0.05882353,\n",
       "       0.        , 0.        , 0.        , 0.        , 0.        ,\n",
       "       0.        , 0.        , 0.        , 0.        , 0.        ,\n",
       "       0.        , 0.        , 0.        , 0.        , 0.        ,\n",
       "       0.        , 0.        , 0.        , 0.        , 0.        ,\n",
       "       0.        , 0.        , 0.        , 0.22352941, 0.99215686,\n",
       "       0.99215686, 0.99215686, 0.05882353, 0.        , 0.        ,\n",
       "       0.        , 0.        , 0.        , 0.        , 0.        ,\n",
       "       0.        , 0.        , 0.        , 0.        , 0.        ,\n",
       "       0.        , 0.        , 0.        , 0.        , 0.        ,\n",
       "       0.        , 0.        , 0.        , 0.        , 0.        ,\n",
       "       0.        , 0.16470588, 0.99215686, 0.99215686, 0.99215686,\n",
       "       0.05882353, 0.        , 0.        , 0.        , 0.        ,\n",
       "       0.        , 0.        , 0.        , 0.        , 0.        ,\n",
       "       0.        , 0.        , 0.        , 0.        , 0.        ,\n",
       "       0.        , 0.        , 0.        , 0.        , 0.        ,\n",
       "       0.        , 0.        , 0.        , 0.        , 0.37254902,\n",
       "       0.99215686, 0.99215686, 0.99215686, 0.05882353, 0.        ,\n",
       "       0.        , 0.        , 0.        , 0.        , 0.        ,\n",
       "       0.        , 0.        , 0.        , 0.        , 0.        ,\n",
       "       0.        , 0.        , 0.        , 0.        , 0.        ,\n",
       "       0.        , 0.        , 0.        , 0.        , 0.        ,\n",
       "       0.        , 0.        , 0.80392157, 0.99215686, 0.99215686,\n",
       "       0.99215686, 0.05882353, 0.        , 0.        , 0.        ,\n",
       "       0.        , 0.        , 0.        , 0.        , 0.        ,\n",
       "       0.        , 0.        , 0.        , 0.        , 0.        ,\n",
       "       0.        , 0.        , 0.        , 0.        , 0.23921569,\n",
       "       0.38823529, 0.37647059, 0.        , 0.        , 0.17647059,\n",
       "       0.87843137, 0.99215686, 0.99215686, 0.76470588, 0.03921569,\n",
       "       0.        , 0.        , 0.        , 0.        , 0.        ,\n",
       "       0.        , 0.        , 0.        , 0.        , 0.        ,\n",
       "       0.        , 0.04313725, 0.09803922, 0.41176471, 0.3254902 ,\n",
       "       0.74117647, 0.74117647, 0.89411765, 0.99215686, 0.98431373,\n",
       "       0.74117647, 0.74117647, 0.85490196, 0.99215686, 0.99215686,\n",
       "       0.82352941, 0.10588235, 0.        , 0.        , 0.        ,\n",
       "       0.        , 0.        , 0.        , 0.        , 0.        ,\n",
       "       0.        , 0.        , 0.16470588, 0.45490196, 0.67843137,\n",
       "       0.99215686, 0.99215686, 0.99215686, 0.99215686, 0.99215686,\n",
       "       0.99215686, 0.99215686, 0.99215686, 0.99215686, 0.99215686,\n",
       "       0.99215686, 0.99215686, 0.99215686, 0.86666667, 0.45490196,\n",
       "       0.02745098, 0.        , 0.        , 0.        , 0.        ,\n",
       "       0.        , 0.        , 0.        , 0.        , 0.        ,\n",
       "       0.4627451 , 0.99215686, 0.99215686, 0.99215686, 0.99215686,\n",
       "       0.96078431, 0.83137255, 0.87058824, 0.99215686, 0.99215686,\n",
       "       0.99215686, 0.99215686, 0.99215686, 0.99215686, 0.99215686,\n",
       "       0.99215686, 0.99215686, 0.99215686, 0.62745098, 0.05882353,\n",
       "       0.        , 0.        , 0.        , 0.        , 0.        ,\n",
       "       0.        , 0.        , 0.        , 0.99607843, 0.99215686,\n",
       "       0.99215686, 0.99215686, 0.74117647, 0.38823529, 0.        ,\n",
       "       0.1254902 , 0.79215686, 0.99215686, 0.99215686, 0.99215686,\n",
       "       0.94117647, 0.47843137, 0.47843137, 0.74509804, 0.99215686,\n",
       "       0.99215686, 0.99215686, 0.68235294, 0.        , 0.        ,\n",
       "       0.        , 0.        , 0.        , 0.        , 0.        ,\n",
       "       0.        , 1.        , 0.99215686, 0.99215686, 0.99215686,\n",
       "       0.93333333, 0.87058824, 0.87058824, 0.87058824, 0.94509804,\n",
       "       0.99215686, 0.99215686, 0.90196078, 0.2745098 , 0.        ,\n",
       "       0.        , 0.06666667, 0.68627451, 0.89803922, 0.99215686,\n",
       "       0.99215686, 0.        , 0.        , 0.        , 0.        ,\n",
       "       0.        , 0.        , 0.        , 0.        , 0.61960784,\n",
       "       0.99215686, 0.99215686, 0.99215686, 0.99215686, 0.99215686,\n",
       "       0.99215686, 0.99215686, 0.99215686, 0.80392157, 0.41568627,\n",
       "       0.25490196, 0.        , 0.        , 0.        , 0.        ,\n",
       "       0.        , 0.24313725, 0.95686275, 0.61568627, 0.        ,\n",
       "       0.        , 0.        , 0.        , 0.        , 0.        ,\n",
       "       0.        , 0.        , 0.02352941, 0.10196078, 0.70196078,\n",
       "       0.70196078, 0.70196078, 0.70196078, 0.70196078, 0.11764706,\n",
       "       0.05882353, 0.03921569, 0.        , 0.        , 0.        ,\n",
       "       0.        , 0.        , 0.        , 0.        , 0.        ,\n",
       "       0.05490196, 0.02352941, 0.        , 0.        , 0.        ,\n",
       "       0.        , 0.        , 0.        , 0.        , 0.        ,\n",
       "       0.        , 0.        , 0.        , 0.        , 0.        ,\n",
       "       0.        , 0.        , 0.        , 0.        , 0.        ,\n",
       "       0.        , 0.        , 0.        , 0.        , 0.        ,\n",
       "       0.        , 0.        , 0.        , 0.        , 0.        ,\n",
       "       0.        , 0.        , 0.        , 0.        , 0.        ,\n",
       "       0.        , 0.        , 0.        , 0.        , 0.        ,\n",
       "       0.        , 0.        , 0.        , 0.        , 0.        ,\n",
       "       0.        , 0.        , 0.        , 0.        , 0.        ,\n",
       "       0.        , 0.        , 0.        , 0.        , 0.        ,\n",
       "       0.        , 0.        , 0.        , 0.        , 0.        ,\n",
       "       0.        , 0.        , 0.        , 0.        , 0.        ,\n",
       "       0.        , 0.        , 0.        , 0.        , 0.        ,\n",
       "       0.        , 0.        , 0.        , 0.        , 0.        ,\n",
       "       0.        , 0.        , 0.        , 0.        , 0.        ,\n",
       "       0.        , 0.        , 0.        , 0.        , 0.        ,\n",
       "       0.        , 0.        , 0.        , 0.        , 0.        ,\n",
       "       0.        , 0.        , 0.        , 0.        , 0.        ,\n",
       "       0.        , 0.        , 0.        , 0.        , 0.        ,\n",
       "       0.        , 0.        , 0.        , 0.        , 0.        ,\n",
       "       0.        , 0.        , 0.        , 0.        , 0.        ,\n",
       "       0.        , 0.        , 0.        , 0.        , 0.        ,\n",
       "       0.        , 0.        , 0.        , 0.        , 0.        ,\n",
       "       0.        , 0.        , 0.        , 0.        , 0.        ,\n",
       "       0.        , 0.        , 0.        , 0.        , 0.        ,\n",
       "       0.        , 0.        , 0.        , 0.        , 0.        ,\n",
       "       0.        , 0.        , 0.        , 0.        , 0.        ,\n",
       "       0.        , 0.        , 0.        , 0.        , 0.        ,\n",
       "       0.        , 0.        , 0.        , 0.        , 0.        ,\n",
       "       0.        , 0.        , 0.        , 0.        , 0.        ,\n",
       "       0.        , 0.        , 0.        , 0.        , 0.        ,\n",
       "       0.        , 0.        , 0.        , 0.        , 0.        ,\n",
       "       0.        , 0.        , 0.        , 0.        , 0.        ,\n",
       "       0.        , 0.        , 0.        , 0.        ])"
      ]
     },
     "execution_count": 14,
     "metadata": {},
     "output_type": "execute_result"
    }
   ],
   "source": [
    "X_test_flattened[0]"
   ]
  },
  {
   "cell_type": "markdown",
   "id": "caf8b64d",
   "metadata": {
    "papermill": {
     "duration": 0.046134,
     "end_time": "2022-04-09T20:08:16.227812",
     "exception": false,
     "start_time": "2022-04-09T20:08:16.181678",
     "status": "completed"
    },
    "tags": []
   },
   "source": [
    "## Create Simple Neural Network"
   ]
  },
  {
   "cell_type": "markdown",
   "id": "aaf39fa3",
   "metadata": {
    "papermill": {
     "duration": 0.044772,
     "end_time": "2022-04-09T20:08:16.318611",
     "exception": false,
     "start_time": "2022-04-09T20:08:16.273839",
     "status": "completed"
    },
    "tags": []
   },
   "source": [
    "Creating stack of neural network\n",
    "\n",
    "Dense layer is added to include connections of all neurons\n",
    "\n",
    "Input shape is 784 neurons & Output shape is 10\n",
    "\n",
    "Optimizer helps to reach to global minima\n",
    "\n",
    "Loss function has sparse(output is integer), and output is categorical label"
   ]
  },
  {
   "cell_type": "code",
   "execution_count": 15,
   "id": "c7db831e",
   "metadata": {
    "execution": {
     "iopub.execute_input": "2022-04-09T20:08:16.415349Z",
     "iopub.status.busy": "2022-04-09T20:08:16.414806Z",
     "iopub.status.idle": "2022-04-09T20:08:27.256915Z",
     "shell.execute_reply": "2022-04-09T20:08:27.256313Z",
     "shell.execute_reply.started": "2022-04-09T19:58:02.581829Z"
    },
    "papermill": {
     "duration": 10.892033,
     "end_time": "2022-04-09T20:08:27.257046",
     "exception": false,
     "start_time": "2022-04-09T20:08:16.365013",
     "status": "completed"
    },
    "tags": []
   },
   "outputs": [
    {
     "name": "stderr",
     "output_type": "stream",
     "text": [
      "2022-04-09 20:08:17.373041: I tensorflow/core/common_runtime/process_util.cc:146] Creating new thread pool with default inter op setting: 2. Tune using inter_op_parallelism_threads for best performance.\n",
      "2022-04-09 20:08:17.699835: I tensorflow/compiler/mlir/mlir_graph_optimization_pass.cc:185] None of the MLIR Optimization Passes are enabled (registered 2)\n"
     ]
    },
    {
     "name": "stdout",
     "output_type": "stream",
     "text": [
      "Epoch 1/5\n",
      "1313/1313 [==============================] - 2s 1ms/step - loss: 0.5203 - accuracy: 0.8659\n",
      "Epoch 2/5\n",
      "1313/1313 [==============================] - 2s 1ms/step - loss: 0.3143 - accuracy: 0.9128\n",
      "Epoch 3/5\n",
      "1313/1313 [==============================] - 2s 1ms/step - loss: 0.2873 - accuracy: 0.9197\n",
      "Epoch 4/5\n",
      "1313/1313 [==============================] - 2s 1ms/step - loss: 0.2740 - accuracy: 0.9226\n",
      "Epoch 5/5\n",
      "1313/1313 [==============================] - 2s 1ms/step - loss: 0.2654 - accuracy: 0.9254\n"
     ]
    },
    {
     "data": {
      "text/plain": [
       "<keras.callbacks.History at 0x7f9a3cebb950>"
      ]
     },
     "execution_count": 15,
     "metadata": {},
     "output_type": "execute_result"
    }
   ],
   "source": [
    "model = keras.Sequential([\n",
    "    keras.layers.Dense(10,input_shape = (784,),activation ='sigmoid')\n",
    "])\n",
    "\n",
    "model.compile(\n",
    "    optimizer = 'adam',\n",
    "    loss = 'sparse_categorical_crossentropy',\n",
    "    metrics = ['accuracy']\n",
    ")\n",
    "\n",
    "model.fit(X_train_flattened,y_train,epochs = 5)"
   ]
  },
  {
   "cell_type": "markdown",
   "id": "e5668dde",
   "metadata": {
    "papermill": {
     "duration": 0.110163,
     "end_time": "2022-04-09T20:08:27.480431",
     "exception": false,
     "start_time": "2022-04-09T20:08:27.370268",
     "status": "completed"
    },
    "tags": []
   },
   "source": [
    "## Make predictions on model"
   ]
  },
  {
   "cell_type": "code",
   "execution_count": 16,
   "id": "1dc172e8",
   "metadata": {
    "execution": {
     "iopub.execute_input": "2022-04-09T20:08:27.710382Z",
     "iopub.status.busy": "2022-04-09T20:08:27.709777Z",
     "iopub.status.idle": "2022-04-09T20:08:28.538258Z",
     "shell.execute_reply": "2022-04-09T20:08:28.538793Z",
     "shell.execute_reply.started": "2022-04-09T19:58:15.831268Z"
    },
    "papermill": {
     "duration": 0.944685,
     "end_time": "2022-04-09T20:08:28.538965",
     "exception": false,
     "start_time": "2022-04-09T20:08:27.594280",
     "status": "completed"
    },
    "tags": []
   },
   "outputs": [],
   "source": [
    "y_predict_dense = model.predict(X_test_flattened)"
   ]
  },
  {
   "cell_type": "code",
   "execution_count": 17,
   "id": "8b784311",
   "metadata": {
    "execution": {
     "iopub.execute_input": "2022-04-09T20:08:28.768143Z",
     "iopub.status.busy": "2022-04-09T20:08:28.767510Z",
     "iopub.status.idle": "2022-04-09T20:08:28.771142Z",
     "shell.execute_reply": "2022-04-09T20:08:28.770686Z",
     "shell.execute_reply.started": "2022-04-09T19:58:16.952765Z"
    },
    "papermill": {
     "duration": 0.120304,
     "end_time": "2022-04-09T20:08:28.771314",
     "exception": false,
     "start_time": "2022-04-09T20:08:28.651010",
     "status": "completed"
    },
    "tags": []
   },
   "outputs": [
    {
     "data": {
      "text/plain": [
       "array([[2.06975579e-01, 1.12038344e-10, 9.99938905e-01, ...,\n",
       "        3.90028654e-05, 5.26308417e-02, 3.54379416e-04],\n",
       "       [9.99945760e-01, 2.54233212e-09, 1.81488544e-01, ...,\n",
       "        4.18630242e-03, 2.96445191e-02, 2.46904838e-05],\n",
       "       [1.31019950e-03, 1.23317540e-02, 1.09941632e-01, ...,\n",
       "        9.89002287e-02, 5.46902061e-01, 9.31110919e-01],\n",
       "       ...,\n",
       "       [2.23174691e-03, 4.31290269e-03, 3.85804474e-02, ...,\n",
       "        1.09783202e-01, 7.63906002e-01, 7.20608830e-02],\n",
       "       [1.09463930e-03, 1.04330147e-05, 4.75615263e-04, ...,\n",
       "        7.92698562e-02, 2.39169002e-01, 9.95393157e-01],\n",
       "       [3.42404842e-02, 4.80878892e-09, 9.97108400e-01, ...,\n",
       "        4.61764193e-06, 5.34968376e-02, 1.95389986e-02]], dtype=float32)"
      ]
     },
     "execution_count": 17,
     "metadata": {},
     "output_type": "execute_result"
    }
   ],
   "source": [
    "y_predict_dense"
   ]
  },
  {
   "cell_type": "code",
   "execution_count": 18,
   "id": "2b1efeb6",
   "metadata": {
    "execution": {
     "iopub.execute_input": "2022-04-09T20:08:29.016093Z",
     "iopub.status.busy": "2022-04-09T20:08:29.015421Z",
     "iopub.status.idle": "2022-04-09T20:08:29.091394Z",
     "shell.execute_reply": "2022-04-09T20:08:29.090850Z",
     "shell.execute_reply.started": "2022-04-09T19:58:16.962051Z"
    },
    "papermill": {
     "duration": 0.210529,
     "end_time": "2022-04-09T20:08:29.091554",
     "exception": false,
     "start_time": "2022-04-09T20:08:28.881025",
     "status": "completed"
    },
    "tags": []
   },
   "outputs": [],
   "source": [
    "y_predicted_labels = [np.argmax(i) for i in y_predict_dense]"
   ]
  },
  {
   "cell_type": "markdown",
   "id": "df6027bb",
   "metadata": {
    "papermill": {
     "duration": 0.11096,
     "end_time": "2022-04-09T20:08:29.312979",
     "exception": false,
     "start_time": "2022-04-09T20:08:29.202019",
     "status": "completed"
    },
    "tags": []
   },
   "source": [
    "## Create CSV and upload"
   ]
  },
  {
   "cell_type": "code",
   "execution_count": 19,
   "id": "c4c76387",
   "metadata": {
    "execution": {
     "iopub.execute_input": "2022-04-09T20:08:29.537668Z",
     "iopub.status.busy": "2022-04-09T20:08:29.537037Z",
     "iopub.status.idle": "2022-04-09T20:08:29.556901Z",
     "shell.execute_reply": "2022-04-09T20:08:29.557434Z",
     "shell.execute_reply.started": "2022-04-09T19:58:17.056633Z"
    },
    "papermill": {
     "duration": 0.13365,
     "end_time": "2022-04-09T20:08:29.557628",
     "exception": false,
     "start_time": "2022-04-09T20:08:29.423978",
     "status": "completed"
    },
    "tags": []
   },
   "outputs": [],
   "source": [
    "df = pd.DataFrame({\"ImageId\":test_digits[\"Image-Id\"],\"Label\":y_predicted_labels})"
   ]
  },
  {
   "cell_type": "code",
   "execution_count": 20,
   "id": "52218fcb",
   "metadata": {
    "execution": {
     "iopub.execute_input": "2022-04-09T20:08:29.782905Z",
     "iopub.status.busy": "2022-04-09T20:08:29.782341Z",
     "iopub.status.idle": "2022-04-09T20:08:29.784968Z",
     "shell.execute_reply": "2022-04-09T20:08:29.785498Z",
     "shell.execute_reply.started": "2022-04-09T19:58:17.082912Z"
    },
    "papermill": {
     "duration": 0.116514,
     "end_time": "2022-04-09T20:08:29.785651",
     "exception": false,
     "start_time": "2022-04-09T20:08:29.669137",
     "status": "completed"
    },
    "tags": []
   },
   "outputs": [],
   "source": [
    "# df.to_csv(\"submission.csv\",index=False)"
   ]
  },
  {
   "cell_type": "code",
   "execution_count": 21,
   "id": "0b556bf8",
   "metadata": {
    "execution": {
     "iopub.execute_input": "2022-04-09T20:08:30.009134Z",
     "iopub.status.busy": "2022-04-09T20:08:30.008578Z",
     "iopub.status.idle": "2022-04-09T20:08:30.025938Z",
     "shell.execute_reply": "2022-04-09T20:08:30.025337Z",
     "shell.execute_reply.started": "2022-04-09T19:58:17.094838Z"
    },
    "papermill": {
     "duration": 0.129615,
     "end_time": "2022-04-09T20:08:30.026075",
     "exception": false,
     "start_time": "2022-04-09T20:08:29.896460",
     "status": "completed"
    },
    "tags": []
   },
   "outputs": [
    {
     "data": {
      "text/html": [
       "<div>\n",
       "<style scoped>\n",
       "    .dataframe tbody tr th:only-of-type {\n",
       "        vertical-align: middle;\n",
       "    }\n",
       "\n",
       "    .dataframe tbody tr th {\n",
       "        vertical-align: top;\n",
       "    }\n",
       "\n",
       "    .dataframe thead th {\n",
       "        text-align: right;\n",
       "    }\n",
       "</style>\n",
       "<table border=\"1\" class=\"dataframe\">\n",
       "  <thead>\n",
       "    <tr style=\"text-align: right;\">\n",
       "      <th></th>\n",
       "      <th>ImageId</th>\n",
       "      <th>Label</th>\n",
       "    </tr>\n",
       "  </thead>\n",
       "  <tbody>\n",
       "    <tr>\n",
       "      <th>0</th>\n",
       "      <td>1</td>\n",
       "      <td>2</td>\n",
       "    </tr>\n",
       "    <tr>\n",
       "      <th>1</th>\n",
       "      <td>2</td>\n",
       "      <td>0</td>\n",
       "    </tr>\n",
       "    <tr>\n",
       "      <th>2</th>\n",
       "      <td>3</td>\n",
       "      <td>9</td>\n",
       "    </tr>\n",
       "    <tr>\n",
       "      <th>3</th>\n",
       "      <td>4</td>\n",
       "      <td>7</td>\n",
       "    </tr>\n",
       "    <tr>\n",
       "      <th>4</th>\n",
       "      <td>5</td>\n",
       "      <td>3</td>\n",
       "    </tr>\n",
       "    <tr>\n",
       "      <th>...</th>\n",
       "      <td>...</td>\n",
       "      <td>...</td>\n",
       "    </tr>\n",
       "    <tr>\n",
       "      <th>27995</th>\n",
       "      <td>27996</td>\n",
       "      <td>9</td>\n",
       "    </tr>\n",
       "    <tr>\n",
       "      <th>27996</th>\n",
       "      <td>27997</td>\n",
       "      <td>7</td>\n",
       "    </tr>\n",
       "    <tr>\n",
       "      <th>27997</th>\n",
       "      <td>27998</td>\n",
       "      <td>3</td>\n",
       "    </tr>\n",
       "    <tr>\n",
       "      <th>27998</th>\n",
       "      <td>27999</td>\n",
       "      <td>9</td>\n",
       "    </tr>\n",
       "    <tr>\n",
       "      <th>27999</th>\n",
       "      <td>28000</td>\n",
       "      <td>2</td>\n",
       "    </tr>\n",
       "  </tbody>\n",
       "</table>\n",
       "<p>28000 rows × 2 columns</p>\n",
       "</div>"
      ],
      "text/plain": [
       "       ImageId  Label\n",
       "0            1      2\n",
       "1            2      0\n",
       "2            3      9\n",
       "3            4      7\n",
       "4            5      3\n",
       "...        ...    ...\n",
       "27995    27996      9\n",
       "27996    27997      7\n",
       "27997    27998      3\n",
       "27998    27999      9\n",
       "27999    28000      2\n",
       "\n",
       "[28000 rows x 2 columns]"
      ]
     },
     "execution_count": 21,
     "metadata": {},
     "output_type": "execute_result"
    }
   ],
   "source": [
    "df"
   ]
  },
  {
   "cell_type": "markdown",
   "id": "df43de77",
   "metadata": {
    "papermill": {
     "duration": 0.112942,
     "end_time": "2022-04-09T20:08:30.249518",
     "exception": false,
     "start_time": "2022-04-09T20:08:30.136576",
     "status": "completed"
    },
    "tags": []
   },
   "source": [
    "## Make Predictions on model"
   ]
  },
  {
   "cell_type": "code",
   "execution_count": 22,
   "id": "1eae4ada",
   "metadata": {
    "execution": {
     "iopub.execute_input": "2022-04-09T20:08:30.474980Z",
     "iopub.status.busy": "2022-04-09T20:08:30.474380Z",
     "iopub.status.idle": "2022-04-09T20:08:31.257073Z",
     "shell.execute_reply": "2022-04-09T20:08:31.256412Z",
     "shell.execute_reply.started": "2022-04-09T19:58:17.115494Z"
    },
    "papermill": {
     "duration": 0.896154,
     "end_time": "2022-04-09T20:08:31.257241",
     "exception": false,
     "start_time": "2022-04-09T20:08:30.361087",
     "status": "completed"
    },
    "tags": []
   },
   "outputs": [],
   "source": [
    "y_predict = model.predict(X_test_flattened)"
   ]
  },
  {
   "cell_type": "markdown",
   "id": "3fd910a9",
   "metadata": {
    "papermill": {
     "duration": 0.114975,
     "end_time": "2022-04-09T20:08:31.486869",
     "exception": false,
     "start_time": "2022-04-09T20:08:31.371894",
     "status": "completed"
    },
    "tags": []
   },
   "source": [
    "Use argmax to find index of highest probability in predictions"
   ]
  },
  {
   "cell_type": "code",
   "execution_count": 23,
   "id": "bad68d0b",
   "metadata": {
    "execution": {
     "iopub.execute_input": "2022-04-09T20:08:31.711726Z",
     "iopub.status.busy": "2022-04-09T20:08:31.711124Z",
     "iopub.status.idle": "2022-04-09T20:08:31.713655Z",
     "shell.execute_reply": "2022-04-09T20:08:31.714235Z",
     "shell.execute_reply.started": "2022-04-09T19:58:18.240496Z"
    },
    "papermill": {
     "duration": 0.117587,
     "end_time": "2022-04-09T20:08:31.714392",
     "exception": false,
     "start_time": "2022-04-09T20:08:31.596805",
     "status": "completed"
    },
    "tags": []
   },
   "outputs": [
    {
     "data": {
      "text/plain": [
       "0"
      ]
     },
     "execution_count": 23,
     "metadata": {},
     "output_type": "execute_result"
    }
   ],
   "source": [
    "np.argmax(y_predict[8])"
   ]
  },
  {
   "cell_type": "markdown",
   "id": "0b14c503",
   "metadata": {
    "papermill": {
     "duration": 0.109267,
     "end_time": "2022-04-09T20:08:31.936027",
     "exception": false,
     "start_time": "2022-04-09T20:08:31.826760",
     "status": "completed"
    },
    "tags": []
   },
   "source": [
    "## Look at confusion matrix"
   ]
  },
  {
   "cell_type": "code",
   "execution_count": 24,
   "id": "1e5e7851",
   "metadata": {
    "execution": {
     "iopub.execute_input": "2022-04-09T20:08:32.163151Z",
     "iopub.status.busy": "2022-04-09T20:08:32.162612Z",
     "iopub.status.idle": "2022-04-09T20:08:32.238818Z",
     "shell.execute_reply": "2022-04-09T20:08:32.239319Z",
     "shell.execute_reply.started": "2022-04-09T19:58:18.248426Z"
    },
    "papermill": {
     "duration": 0.193325,
     "end_time": "2022-04-09T20:08:32.239479",
     "exception": false,
     "start_time": "2022-04-09T20:08:32.046154",
     "status": "completed"
    },
    "tags": []
   },
   "outputs": [],
   "source": [
    "y_predicted_labels = [np.argmax(i) for i in y_predict]"
   ]
  },
  {
   "cell_type": "code",
   "execution_count": 25,
   "id": "1314be5c",
   "metadata": {
    "execution": {
     "iopub.execute_input": "2022-04-09T20:08:32.468127Z",
     "iopub.status.busy": "2022-04-09T20:08:32.467583Z",
     "iopub.status.idle": "2022-04-09T20:08:32.471476Z",
     "shell.execute_reply": "2022-04-09T20:08:32.470854Z",
     "shell.execute_reply.started": "2022-04-09T19:58:18.346203Z"
    },
    "papermill": {
     "duration": 0.119715,
     "end_time": "2022-04-09T20:08:32.472230",
     "exception": false,
     "start_time": "2022-04-09T20:08:32.352515",
     "status": "completed"
    },
    "tags": []
   },
   "outputs": [],
   "source": [
    "# y_predicted_labels"
   ]
  },
  {
   "cell_type": "code",
   "execution_count": 26,
   "id": "93c8de6a",
   "metadata": {
    "execution": {
     "iopub.execute_input": "2022-04-09T20:08:32.704328Z",
     "iopub.status.busy": "2022-04-09T20:08:32.703593Z",
     "iopub.status.idle": "2022-04-09T20:08:33.262995Z",
     "shell.execute_reply": "2022-04-09T20:08:33.262480Z",
     "shell.execute_reply.started": "2022-04-09T19:58:18.352475Z"
    },
    "papermill": {
     "duration": 0.67792,
     "end_time": "2022-04-09T20:08:33.263121",
     "exception": false,
     "start_time": "2022-04-09T20:08:32.585201",
     "status": "completed"
    },
    "tags": []
   },
   "outputs": [],
   "source": [
    "import seaborn as sns"
   ]
  },
  {
   "cell_type": "markdown",
   "id": "c320cb00",
   "metadata": {
    "papermill": {
     "duration": 0.110933,
     "end_time": "2022-04-09T20:08:33.485483",
     "exception": false,
     "start_time": "2022-04-09T20:08:33.374550",
     "status": "completed"
    },
    "tags": []
   },
   "source": [
    "> Anything not in diagonal is considered an error"
   ]
  },
  {
   "cell_type": "code",
   "execution_count": 27,
   "id": "ae7c6313",
   "metadata": {
    "execution": {
     "iopub.execute_input": "2022-04-09T20:08:33.714211Z",
     "iopub.status.busy": "2022-04-09T20:08:33.713155Z",
     "iopub.status.idle": "2022-04-09T20:08:33.715342Z",
     "shell.execute_reply": "2022-04-09T20:08:33.715820Z",
     "shell.execute_reply.started": "2022-04-09T19:58:19.169589Z"
    },
    "papermill": {
     "duration": 0.120666,
     "end_time": "2022-04-09T20:08:33.715975",
     "exception": false,
     "start_time": "2022-04-09T20:08:33.595309",
     "status": "completed"
    },
    "tags": []
   },
   "outputs": [],
   "source": [
    "# cm = tf.math.confusion_matrix(labels= y_test,predictions = y_predicted_labels)\n",
    "# sns.heatmap(cm,annot = True,fmt = 'd')\n",
    "# plt.xlabel('Predicted')\n",
    "# plt.ylabel('True')"
   ]
  },
  {
   "cell_type": "markdown",
   "id": "65e91221",
   "metadata": {
    "papermill": {
     "duration": 0.111647,
     "end_time": "2022-04-09T20:08:33.938845",
     "exception": false,
     "start_time": "2022-04-09T20:08:33.827198",
     "status": "completed"
    },
    "tags": []
   },
   "source": [
    "## Add Hidden Layer"
   ]
  },
  {
   "cell_type": "markdown",
   "id": "bce9bf82",
   "metadata": {
    "papermill": {
     "duration": 0.142716,
     "end_time": "2022-04-09T20:08:34.195813",
     "exception": false,
     "start_time": "2022-04-09T20:08:34.053097",
     "status": "completed"
    },
    "tags": []
   },
   "source": [
    "Specify # of hidden layers"
   ]
  },
  {
   "cell_type": "code",
   "execution_count": 28,
   "id": "c82ae4e6",
   "metadata": {
    "execution": {
     "iopub.execute_input": "2022-04-09T20:08:34.475710Z",
     "iopub.status.busy": "2022-04-09T20:08:34.474825Z",
     "iopub.status.idle": "2022-04-09T20:08:59.771109Z",
     "shell.execute_reply": "2022-04-09T20:08:59.771637Z",
     "shell.execute_reply.started": "2022-04-09T20:01:05.655264Z"
    },
    "papermill": {
     "duration": 25.435522,
     "end_time": "2022-04-09T20:08:59.771847",
     "exception": false,
     "start_time": "2022-04-09T20:08:34.336325",
     "status": "completed"
    },
    "tags": []
   },
   "outputs": [
    {
     "name": "stdout",
     "output_type": "stream",
     "text": [
      "Epoch 1/10\n",
      "1313/1313 [==============================] - 3s 2ms/step - loss: 0.3093 - accuracy: 0.9118 - mse: 25.1759\n",
      "Epoch 2/10\n",
      "1313/1313 [==============================] - 2s 2ms/step - loss: 0.1448 - accuracy: 0.9571 - mse: 25.5655\n",
      "Epoch 3/10\n",
      "1313/1313 [==============================] - 2s 2ms/step - loss: 0.1015 - accuracy: 0.9695 - mse: 25.7325\n",
      "Epoch 4/10\n",
      "1313/1313 [==============================] - 2s 2ms/step - loss: 0.0769 - accuracy: 0.9777 - mse: 25.9384\n",
      "Epoch 5/10\n",
      "1313/1313 [==============================] - 3s 2ms/step - loss: 0.0609 - accuracy: 0.9813 - mse: 26.0622\n",
      "Epoch 6/10\n",
      "1313/1313 [==============================] - 2s 2ms/step - loss: 0.0480 - accuracy: 0.9854 - mse: 26.1680\n",
      "Epoch 7/10\n",
      "1313/1313 [==============================] - 2s 2ms/step - loss: 0.0385 - accuracy: 0.9886 - mse: 26.2773\n",
      "Epoch 8/10\n",
      "1313/1313 [==============================] - 2s 2ms/step - loss: 0.0309 - accuracy: 0.9908 - mse: 26.3300\n",
      "Epoch 9/10\n",
      "1313/1313 [==============================] - 2s 2ms/step - loss: 0.0245 - accuracy: 0.9930 - mse: 26.3932\n",
      "Epoch 10/10\n",
      "1313/1313 [==============================] - 2s 2ms/step - loss: 0.0203 - accuracy: 0.9942 - mse: 26.4569\n"
     ]
    },
    {
     "data": {
      "text/plain": [
       "<keras.callbacks.History at 0x7f9a163aced0>"
      ]
     },
     "execution_count": 28,
     "metadata": {},
     "output_type": "execute_result"
    }
   ],
   "source": [
    "model = keras.Sequential([\n",
    "    keras.layers.Dense(100,input_shape = (784,),activation ='relu'),\n",
    "    keras.layers.Dense(10,activation ='sigmoid')\n",
    "])\n",
    "\n",
    "model.compile(\n",
    "    optimizer = 'adam',\n",
    "    loss = 'sparse_categorical_crossentropy',\n",
    "    metrics = ['accuracy','mse']\n",
    ")\n",
    "\n",
    "model.fit(X_train_flattened,y_train,epochs = 10)"
   ]
  },
  {
   "cell_type": "code",
   "execution_count": 29,
   "id": "50a7d5d3",
   "metadata": {
    "execution": {
     "iopub.execute_input": "2022-04-09T20:09:00.352613Z",
     "iopub.status.busy": "2022-04-09T20:09:00.351627Z",
     "iopub.status.idle": "2022-04-09T20:09:01.477561Z",
     "shell.execute_reply": "2022-04-09T20:09:01.478040Z",
     "shell.execute_reply.started": "2022-04-09T19:58:55.809245Z"
    },
    "papermill": {
     "duration": 1.410278,
     "end_time": "2022-04-09T20:09:01.478229",
     "exception": false,
     "start_time": "2022-04-09T20:09:00.067951",
     "status": "completed"
    },
    "tags": []
   },
   "outputs": [],
   "source": [
    "y_predict = model.predict(X_test_flattened)\n",
    "y_predicted_labels = [np.argmax(i) for i in y_predict]"
   ]
  },
  {
   "cell_type": "code",
   "execution_count": 30,
   "id": "ce2955bc",
   "metadata": {
    "execution": {
     "iopub.execute_input": "2022-04-09T20:09:02.103663Z",
     "iopub.status.busy": "2022-04-09T20:09:02.103033Z",
     "iopub.status.idle": "2022-04-09T20:09:02.172458Z",
     "shell.execute_reply": "2022-04-09T20:09:02.171859Z",
     "shell.execute_reply.started": "2022-04-09T19:58:57.072267Z"
    },
    "papermill": {
     "duration": 0.405659,
     "end_time": "2022-04-09T20:09:02.172607",
     "exception": false,
     "start_time": "2022-04-09T20:09:01.766948",
     "status": "completed"
    },
    "tags": []
   },
   "outputs": [],
   "source": [
    "df = pd.DataFrame({\"ImageId\":test_digits[\"Image-Id\"],\"Label\":y_predicted_labels})\n",
    "df.to_csv(\"submission.csv\",index=False)"
   ]
  },
  {
   "cell_type": "code",
   "execution_count": 31,
   "id": "f82b6262",
   "metadata": {
    "execution": {
     "iopub.execute_input": "2022-04-09T20:09:02.752359Z",
     "iopub.status.busy": "2022-04-09T20:09:02.751740Z",
     "iopub.status.idle": "2022-04-09T20:09:02.753464Z",
     "shell.execute_reply": "2022-04-09T20:09:02.753975Z",
     "shell.execute_reply.started": "2022-04-09T19:58:57.146427Z"
    },
    "papermill": {
     "duration": 0.293125,
     "end_time": "2022-04-09T20:09:02.754127",
     "exception": false,
     "start_time": "2022-04-09T20:09:02.461002",
     "status": "completed"
    },
    "tags": []
   },
   "outputs": [],
   "source": [
    "# for i in range(20):\n",
    "#     plt.figure()\n",
    "#     plt.imshow(X_test[i].reshape(28,28))\n",
    "#     plt.title(y_predicted_labels[i])"
   ]
  },
  {
   "cell_type": "markdown",
   "id": "f1d01026",
   "metadata": {
    "papermill": {
     "duration": 0.356815,
     "end_time": "2022-04-09T20:09:03.392938",
     "exception": false,
     "start_time": "2022-04-09T20:09:03.036123",
     "status": "completed"
    },
    "tags": []
   },
   "source": [
    "## Can add flatten layer to remove flattened array"
   ]
  },
  {
   "cell_type": "code",
   "execution_count": 32,
   "id": "4c2e6c65",
   "metadata": {
    "execution": {
     "iopub.execute_input": "2022-04-09T20:09:03.984129Z",
     "iopub.status.busy": "2022-04-09T20:09:03.983623Z",
     "iopub.status.idle": "2022-04-09T20:09:17.078097Z",
     "shell.execute_reply": "2022-04-09T20:09:17.077571Z",
     "shell.execute_reply.started": "2022-04-09T19:58:57.152399Z"
    },
    "papermill": {
     "duration": 13.379425,
     "end_time": "2022-04-09T20:09:17.078311",
     "exception": false,
     "start_time": "2022-04-09T20:09:03.698886",
     "status": "completed"
    },
    "tags": []
   },
   "outputs": [
    {
     "name": "stdout",
     "output_type": "stream",
     "text": [
      "Epoch 1/5\n",
      "1313/1313 [==============================] - 3s 2ms/step - loss: 0.3060 - accuracy: 0.9120\n",
      "Epoch 2/5\n",
      "1313/1313 [==============================] - 3s 2ms/step - loss: 0.1361 - accuracy: 0.9602\n",
      "Epoch 3/5\n",
      "1313/1313 [==============================] - 2s 2ms/step - loss: 0.0958 - accuracy: 0.9714\n",
      "Epoch 4/5\n",
      "1313/1313 [==============================] - 2s 2ms/step - loss: 0.0736 - accuracy: 0.9780\n",
      "Epoch 5/5\n",
      "1313/1313 [==============================] - 2s 2ms/step - loss: 0.0569 - accuracy: 0.9831\n"
     ]
    },
    {
     "data": {
      "text/plain": [
       "<keras.callbacks.History at 0x7f9a2857d990>"
      ]
     },
     "execution_count": 32,
     "metadata": {},
     "output_type": "execute_result"
    }
   ],
   "source": [
    "model = keras.Sequential([\n",
    "    keras.layers.Flatten(input_shape = (28,28)),\n",
    "    keras.layers.Dense(100,activation ='relu'),\n",
    "    keras.layers.Dense(10,activation ='sigmoid')\n",
    "])\n",
    "\n",
    "model.compile(\n",
    "    optimizer = 'adam',\n",
    "    loss = 'sparse_categorical_crossentropy',\n",
    "    metrics = ['accuracy']\n",
    ")\n",
    "\n",
    "model.fit(X_train,y_train,epochs = 5)"
   ]
  },
  {
   "cell_type": "markdown",
   "id": "b8bad33f",
   "metadata": {
    "papermill": {
     "duration": 0.366567,
     "end_time": "2022-04-09T20:09:17.809950",
     "exception": false,
     "start_time": "2022-04-09T20:09:17.443383",
     "status": "completed"
    },
    "tags": []
   },
   "source": [
    "## Try different optimizers and loss functions"
   ]
  }
 ],
 "metadata": {
  "kernelspec": {
   "display_name": "Python 3",
   "language": "python",
   "name": "python3"
  },
  "language_info": {
   "codemirror_mode": {
    "name": "ipython",
    "version": 3
   },
   "file_extension": ".py",
   "mimetype": "text/x-python",
   "name": "python",
   "nbconvert_exporter": "python",
   "pygments_lexer": "ipython3",
   "version": "3.7.12"
  },
  "papermill": {
   "default_parameters": {},
   "duration": 88.654238,
   "end_time": "2022-04-09T20:09:21.520075",
   "environment_variables": {},
   "exception": null,
   "input_path": "__notebook__.ipynb",
   "output_path": "__notebook__.ipynb",
   "parameters": {},
   "start_time": "2022-04-09T20:07:52.865837",
   "version": "2.3.3"
  }
 },
 "nbformat": 4,
 "nbformat_minor": 5
}
